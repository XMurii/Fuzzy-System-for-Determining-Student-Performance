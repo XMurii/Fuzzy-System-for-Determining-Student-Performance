{
 "cells": [
  {
   "cell_type": "markdown",
   "id": "eb7c2a79",
   "metadata": {},
   "source": [
    "Saya ingin buat aplikasi untuk menentukan kelulusan mahasiswa dalam mata kuliah kalkulus dengan menggunakan system fuzzy, jadi untuk aturan nilainya adalah:\n",
    "\n",
    "- Sub CLO 3-1-1 : UJIAN (50%), Tugas (30%), Quiz (20%)\n",
    "- Sub CLO 3-1-2 : UJIAN (50%), Tugas (30%), Quiz (20%)\n",
    "- Sub CLO 3-1-3 : UJIAN (50%), Tugas (30%), Quiz (20%)\n",
    "- Sub CLO 3-1-4 : UJIAN (50%), Tugas (30%), Quiz (20%)\n",
    "\n",
    "Total Nilai=(Ujian)*5%+(Tugas)*12.5%+(Quiz)*7.5%\n",
    "\n",
    "Untuk aturan gradenya:\n",
    "- Total Nilai > 80 = \"A\"\n",
    "- Total Nilai > 70 = \"AB\"\n",
    "- Total Nilai > 65 = \"B\"\n",
    "- Total Nilai > 60 = \"BC\"\n",
    "- Total Nilai > 50 = \"C\"\n",
    "- Total Nilai > 40 = \"D\"\n",
    "- Total Nilai < 40 = \"E\"\n"
   ]
  },
  {
   "cell_type": "code",
   "execution_count": 1,
   "id": "f9ae2e6d",
   "metadata": {},
   "outputs": [],
   "source": [
    "import skfuzzy as fuzz \n",
    "import numpy as np \n",
    "from skfuzzy import control as ctrl \n",
    "import matplotlib.pyplot as plt"
   ]
  },
  {
   "cell_type": "code",
   "execution_count": 2,
   "id": "30f77089",
   "metadata": {},
   "outputs": [],
   "source": [
    "# Definisi Input variabel fuzzy  \n",
    "ujian = ctrl.Antecedent(np.arange(0, 101, 1), 'ujian')  \n",
    "tugas = ctrl.Antecedent(np.arange(0, 101, 1), 'tugas')  \n",
    "quiz = ctrl.Antecedent(np.arange(0, 101, 1), 'quiz')  "
   ]
  },
  {
   "cell_type": "code",
   "execution_count": 3,
   "id": "eafcbc3f",
   "metadata": {},
   "outputs": [],
   "source": [
    "# Output variabel fuzzy dengan explicit defuzzify method  \n",
    "total_nilai = ctrl.Consequent(np.arange(0, 101, 1), 'total_nilai')  \n",
    "total_nilai.defuzzify_method = 'centroid'  "
   ]
  },
  {
   "cell_type": "code",
   "execution_count": 4,
   "id": "22ef9a77",
   "metadata": {},
   "outputs": [],
   "source": [
    "# Fungsi keanggotaan input untuk ujian\n",
    "ujian['rendah'] = fuzz.trimf(ujian.universe, [0, 0, 60])  \n",
    "ujian['sedang'] = fuzz.trimf(ujian.universe, [40, 60, 80])  \n",
    "ujian['tinggi'] = fuzz.trimf(ujian.universe, [70, 100, 100])\n",
    "\n",
    "# Visualisasi\n",
    "# ujian.view()"
   ]
  },
  {
   "cell_type": "code",
   "execution_count": 5,
   "id": "1e054dd6",
   "metadata": {},
   "outputs": [],
   "source": [
    "# Fungsi keanggotaan input untuk tugas\n",
    "tugas['rendah'] = fuzz.trimf(tugas.universe, [0, 0, 60])  \n",
    "tugas['sedang'] = fuzz.trimf(tugas.universe, [40, 60, 80])  \n",
    "tugas['tinggi'] = fuzz.trimf(tugas.universe, [70, 100, 100])  \n",
    "\n",
    "# Visualisasi\n",
    "# tugas.view()"
   ]
  },
  {
   "cell_type": "code",
   "execution_count": 6,
   "id": "c6a3491e",
   "metadata": {},
   "outputs": [],
   "source": [
    "# Fungsi keanggotaan input untuk quiz\n",
    "quiz['rendah'] = fuzz.trimf(quiz.universe, [0, 0, 60])  \n",
    "quiz['sedang'] = fuzz.trimf(quiz.universe, [40, 60, 80])  \n",
    "quiz['tinggi'] = fuzz.trimf(quiz.universe, [70, 100, 100])  \n",
    "\n",
    "# Visualisasi\n",
    "# quiz.view()"
   ]
  },
  {
   "cell_type": "code",
   "execution_count": 7,
   "id": "48bf67c5",
   "metadata": {},
   "outputs": [],
   "source": [
    "# Fungsi keanggotaan output  total nilai\n",
    "total_nilai['Sangat_Rendah'] = fuzz.trimf(total_nilai.universe, [0, 0, 40])  \n",
    "total_nilai['Rendah'] = fuzz.trimf(total_nilai.universe, [30, 40, 50])  \n",
    "total_nilai['Cukup'] = fuzz.trimf(total_nilai.universe, [45, 55, 65])  \n",
    "total_nilai['Sedang'] = fuzz.trimf(total_nilai.universe, [60, 65, 70])  \n",
    "total_nilai['Bagus'] = fuzz.trimf(total_nilai.universe, [68, 75, 80])  \n",
    "total_nilai['Sangat_Bagus'] = fuzz.trimf(total_nilai.universe, [78, 85, 100])  \n",
    "total_nilai['Istimewa'] = fuzz.trimf(total_nilai.universe, [80, 100, 100])  \n",
    "\n",
    "# Visualisasi\n",
    "# total_nilai.view()"
   ]
  },
  {
   "cell_type": "code",
   "execution_count": 8,
   "id": "e9cd053a",
   "metadata": {},
   "outputs": [],
   "source": [
    "# Aturan Fuzzy\n",
    "rule1 = ctrl.Rule(ujian['tinggi'] & tugas['tinggi'] & quiz['tinggi'], total_nilai['Istimewa'])  \n",
    "rule2 = ctrl.Rule(ujian['tinggi'] & tugas['tinggi'] & quiz['sedang'], total_nilai['Sangat_Bagus'])  \n",
    "rule3 = ctrl.Rule(ujian['sedang'] & tugas['tinggi'] & quiz['sedang'], total_nilai['Bagus'])  \n",
    "rule4 = ctrl.Rule(ujian['sedang'] & tugas['sedang'] & quiz['sedang'], total_nilai['Cukup'])  \n",
    "rule5 = ctrl.Rule(ujian['sedang'] & tugas['rendah'], total_nilai['Rendah'])  \n",
    "rule6 = ctrl.Rule(ujian['rendah'] | tugas['rendah'] | quiz['rendah'], total_nilai['Sangat_Rendah'])  "
   ]
  },
  {
   "cell_type": "code",
   "execution_count": 9,
   "id": "28e75263",
   "metadata": {},
   "outputs": [],
   "source": [
    "# Membuat objek untuk defuzzification\n",
    "nilai_ctrl = ctrl.ControlSystem([rule1, rule2, rule3, rule4, rule5, rule6])  \n",
    "nilai_sim = ctrl.ControlSystemSimulation(nilai_ctrl)  "
   ]
  },
  {
   "cell_type": "code",
   "execution_count": 10,
   "id": "5672af77",
   "metadata": {},
   "outputs": [
    {
     "name": "stdout",
     "output_type": "stream",
     "text": [
      "TOTAL NILAI KALKULUS : 55\n",
      "Grade: C\n"
     ]
    }
   ],
   "source": [
    "nilai_sim.input['ujian'] = 60\n",
    "nilai_sim.input['tugas'] = 60\n",
    "nilai_sim.input['quiz'] = 60\n",
    "\n",
    "nilai_sim.compute()\n",
    "\n",
    "print(f\"TOTAL NILAI KALKULUS : {nilai_sim.output['total_nilai']:.0f}\")\n",
    "grade_kelulusan = nilai_sim.output['total_nilai']\n",
    "\n",
    "if grade_kelulusan >= 80:  \n",
    "    print(\"Grade: A\")  \n",
    "elif grade_kelulusan >= 70:  \n",
    "    print(\"Grade: AB\")  \n",
    "elif grade_kelulusan >= 65:  \n",
    "    print(\"Grade: B\")  \n",
    "elif grade_kelulusan >= 60:  \n",
    "    print(\"Grade: BC\")  \n",
    "elif grade_kelulusan >= 50:  \n",
    "    print(\"Grade: C\")  \n",
    "elif grade_kelulusan >= 40:  \n",
    "    print(\"Grade: D\")  \n",
    "else:  \n",
    "    print(\"Grade: E\")  \n",
    "\n",
    "    \n",
    "# total_nilai.view(sim= nilai_sim)\n",
    "\n"
   ]
  }
 ],
 "metadata": {
  "kernelspec": {
   "display_name": "Python 3",
   "language": "python",
   "name": "python3"
  },
  "language_info": {
   "codemirror_mode": {
    "name": "ipython",
    "version": 3
   },
   "file_extension": ".py",
   "mimetype": "text/x-python",
   "name": "python",
   "nbconvert_exporter": "python",
   "pygments_lexer": "ipython3",
   "version": "3.13.2"
  }
 },
 "nbformat": 4,
 "nbformat_minor": 5
}
